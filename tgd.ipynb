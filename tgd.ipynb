{
 "cells": [
  {
   "cell_type": "code",
   "execution_count": 1,
   "metadata": {},
   "outputs": [
    {
     "data": {
      "text/plain": [
       "(0.2930256542477762, 0.8692068564621311)"
      ]
     },
     "execution_count": 1,
     "metadata": {},
     "output_type": "execute_result"
    }
   ],
   "source": [
    "# Q1. Write a Python function that takes in two arrays of data and calculates the F-value for a variance ratio\n",
    "# test. The function should return the F-value and the corresponding p-value for the test.\n",
    "\n",
    "import numpy as np\n",
    "from scipy.stats import f\n",
    "\n",
    "def f_test(array1, array2):\n",
    "    var1 = np.var(array1)\n",
    "    var2 = np.var(array2)\n",
    "    f_ratio = var1 / var2\n",
    "    df1 = len(array1) - 1\n",
    "    df2 = len(array2) - 1\n",
    "    p_value = f.sf(f_ratio, df1, df2)\n",
    "    \n",
    "    return f_ratio, p_value\n",
    "\n",
    "f_test([20,34,56,23,45],[34,67,89,90,34])\n"
   ]
  },
  {
   "cell_type": "code",
   "execution_count": 2,
   "metadata": {},
   "outputs": [
    {
     "data": {
      "text/plain": [
       "0.025532678985211353"
      ]
     },
     "execution_count": 2,
     "metadata": {},
     "output_type": "execute_result"
    }
   ],
   "source": [
    "# Q2. Given a significance level of 0.05 and the degrees of freedom for the numerator and denominator of an\n",
    "# F-distribution, write a Python function that returns the critical F-value for a two-tailed test.\n",
    "from scipy.stats import f\n",
    "\n",
    "def f_critical(alpha, dfn, dfd):\n",
    "    f_tabulated = f.ppf(alpha/2, dfn, dfd)\n",
    "    return f_tabulated\n",
    "\n",
    "f_critical(0.05,2,3)\n"
   ]
  },
  {
   "cell_type": "code",
   "execution_count": 6,
   "metadata": {},
   "outputs": [
    {
     "name": "stdout",
     "output_type": "stream",
     "text": [
      "0.5555555555555556\n",
      "29 , 29\n",
      "0.9403951172223671\n"
     ]
    }
   ],
   "source": [
    "# Q3. Write a Python program that generates random samples from two normal distributions with known\n",
    "\n",
    "# variances and uses an F-test to determine if the variances are equal. The program should output the F-\n",
    "# value, degrees of freedom, and p-value for the test.\n",
    "\n",
    "\n",
    "import numpy as np\n",
    "from scipy.stats import f\n",
    "\n",
    "\n",
    "sample1 = np.random.normal(10, np.sqrt(5), 30)\n",
    "sample2 = np.random.normal(15, np.sqrt(9), 30)\n",
    "\n",
    "\n",
    "f_ratio = 5/9\n",
    "dfn = 30-1\n",
    "dfd = 30-1\n",
    "p_value = f.sf(f_ratio, dfn, dfd)\n",
    "\n",
    "\n",
    "\n",
    "print( f_ratio)\n",
    "print( dfn, \",\", dfd)\n",
    "print( p_value)\n"
   ]
  },
  {
   "cell_type": "code",
   "execution_count": 4,
   "metadata": {},
   "outputs": [
    {
     "name": "stdout",
     "output_type": "stream",
     "text": [
      "Fail to reject null hypothesis. The variances of the two populations are not significantly different.\n"
     ]
    }
   ],
   "source": [
    "# Q4.The variances of two populations are known to be 10 and 15. A sample of 12 observations is taken from\n",
    "# each population. Conduct an F-test at the 5% significance level to determine if the variances are\n",
    "# significantly different.\n",
    "# H0: The variances of the two populations are equal.\n",
    "\n",
    "# Ha: The variances of the two populations are not equal.\n",
    "\n",
    "import numpy as np\n",
    "from scipy.stats import f\n",
    "\n",
    "\n",
    "var1 = 10\n",
    "var2 = 15\n",
    "n1 = 12\n",
    "n2 = 12\n",
    "alpha = 0.05\n",
    "\n",
    "\n",
    "sample1 = np.random.normal(loc=0, scale=np.sqrt(var1), size=n1)\n",
    "sample2 = np.random.normal(loc=0, scale=np.sqrt(var2), size=n2)\n",
    "\n",
    "s1_var = np.var(sample1, ddof=1)\n",
    "s2_var = np.var(sample2, ddof=1)\n",
    "\n",
    "F_statistic = s1_var / s2_var\n",
    "\n",
    "\n",
    "dfn = n1 - 1\n",
    "dfd = n2 - 1\n",
    "F_critical = f.ppf(1-alpha/2, dfn, dfd)\n",
    "\n",
    "if F_statistic > F_critical :\n",
    "    print(\"Reject null hypothesis. The variances of the two populations are significantly different.\")\n",
    "else:\n",
    "    print(\"Fail to reject null hypothesis. The variances of the two populations are not significantly different.\")\n",
    "    \n",
    "\n",
    "\n",
    "\n"
   ]
  },
  {
   "cell_type": "code",
   "execution_count": 5,
   "metadata": {},
   "outputs": [
    {
     "name": "stdout",
     "output_type": "stream",
     "text": [
      "Fail to reject null hypothesis. The claim is justified.\n"
     ]
    }
   ],
   "source": [
    "# Q5. A manufacturer claims that the variance of the diameter of a certain product is 0.005. A sample of 25\n",
    "# products is taken, and the sample variance is found to be 0.006. Conduct an F-test at the 1% significance\n",
    "# level to determine if the claim is justified.\n",
    "\n",
    "\n",
    "import numpy as np\n",
    "from scipy.stats import f\n",
    "\n",
    "var_claimed = 0.005\n",
    "n = 25\n",
    "sam_variance = 0.006\n",
    "alpha = 0.01\n",
    "\n",
    "\n",
    "F_statistic = sam_variance / var_claimed\n",
    "\n",
    "\n",
    "dfn = n - 1\n",
    "dfd = np.inf\n",
    "F_critical = f.ppf(q=1-alpha, dfn=dfn, dfd=dfd)\n",
    "\n",
    "\n",
    "if F_statistic > F_critical:\n",
    "    print(\"Reject null hypothesis. The claim is not justified.\")\n",
    "else:\n",
    "    print(\"Fail to reject null hypothesis. The claim is justified.\")\n",
    "    \n"
   ]
  },
  {
   "cell_type": "code",
   "execution_count": 7,
   "metadata": {},
   "outputs": [
    {
     "name": "stdout",
     "output_type": "stream",
     "text": [
      "1.1666666666666667\n",
      "0.9255555555555556\n"
     ]
    }
   ],
   "source": [
    "# Q6. Write a Python function that takes in the degrees of freedom for the numerator and denominator of an\n",
    "# F-distribution and calculates the mean and variance of the distribution. The function should return the\n",
    "# mean and variance as a tuple.\n",
    "\n",
    "\n",
    "from scipy.stats import f\n",
    "\n",
    "def f_mean_var(dfn, dfd):\n",
    "    \n",
    "    mean = dfd / (dfd - 2)\n",
    "    var = (2 * dfd ** 2 * (dfn + dfd - 2)) / (dfn * (dfd - 2) ** 2 * (dfd - 4))\n",
    "    \n",
    "    return mean, var\n",
    "\n",
    "dfn = 5\n",
    "dfd = 14\n",
    "\n",
    "mean, var = f_mean_var(dfn, dfd)\n",
    "\n",
    "print( mean)\n",
    "print(var)\n"
   ]
  },
  {
   "cell_type": "code",
   "execution_count": 8,
   "metadata": {},
   "outputs": [
    {
     "name": "stdout",
     "output_type": "stream",
     "text": [
      "1.25\n"
     ]
    }
   ],
   "source": [
    "# Q7. A random sample of 10 measurements is taken from a normal population with unknown variance. The\n",
    "# sample variance is found to be 25. Another random sample of 15 measurements is taken from another\n",
    "# normal population with unknown variance, and the sample variance is found to be 20. Conduct an F-test\n",
    "# at the 10% significance level to determine if the variances are significantly different.\n",
    "\n",
    "s1_square = 25\n",
    "s2_square = 20\n",
    "\n",
    "F = s1_square / s2_square\n",
    "print( F)\n"
   ]
  },
  {
   "cell_type": "code",
   "execution_count": 9,
   "metadata": {},
   "outputs": [
    {
     "name": "stdout",
     "output_type": "stream",
     "text": [
      "Sample variance of Restaurant A:  7.80952380952381\n",
      "Sample variance of Restaurant B:  5.366666666666667\n"
     ]
    }
   ],
   "source": [
    "# Q8. The following data represent the waiting times in minutes at two different restaurants on a Saturday\n",
    "# night: Restaurant A: 24, 25, 28, 23, 22, 20, 27; Restaurant B: 31, 33, 35, 30, 32, 36. Conduct an F-test at the 5%\n",
    "# significance level to determine if the variances are significantly different.\n",
    "\n",
    "\n",
    "import numpy as np\n",
    "\n",
    "restaurant_a = np.array([24, 25, 28, 23, 22, 20, 27])\n",
    "restaurant_b = np.array([31, 33, 35, 30, 32, 36])\n",
    "\n",
    "s1_squared = np.var(restaurant_a, ddof=1)\n",
    "s2_squared = np.var(restaurant_b, ddof=1)\n",
    "\n",
    "print(\"Sample variance of Restaurant A: \", s1_squared)\n",
    "print(\"Sample variance of Restaurant B: \", s2_squared)\n",
    "\n"
   ]
  },
  {
   "cell_type": "code",
   "execution_count": 10,
   "metadata": {},
   "outputs": [
    {
     "name": "stdout",
     "output_type": "stream",
     "text": [
      "The variances are not significantly different.\n"
     ]
    }
   ],
   "source": [
    "# Q9. The following data represent the test scores of two groups of students: Group A: 80, 85, 90, 92, 87, 83;\n",
    "# Group B: 75, 78, 82, 79, 81, 84. Conduct an F-test at the 1% significance level to determine if the variances\n",
    "# are significantly different.\n",
    "\n",
    "# Null hypothesis (H0): The variances of both groups are equal.\n",
    "# Alternative hypothesis (H1): The variances of the two groups are not equal.\n",
    "\n",
    "import numpy as np\n",
    "from scipy.stats import f\n",
    "\n",
    "\n",
    "group_a = np.array([80, 85, 90, 92, 87, 83])\n",
    "group_b = np.array([75, 78, 82, 79, 81, 84])\n",
    "\n",
    "\n",
    "s1_sq = np.var(group_a, ddof=1)\n",
    "s2_sq = np.var(group_b, ddof=1)\n",
    "\n",
    "\n",
    "f_stat = s1_sq / s2_sq\n",
    "\n",
    "\n",
    "alpha = 0.01\n",
    "df1 = len(group_a) - 1\n",
    "df2 = len(group_b) - 1\n",
    "f_crit = f.ppf(1 - alpha/2, df1, df2)\n",
    "\n",
    "if f_stat > f_crit:\n",
    "    print(\"The variances are significantly different.\")\n",
    "else:\n",
    "    print(\"The variances are not significantly different.\")\n"
   ]
  },
  {
   "cell_type": "code",
   "execution_count": null,
   "metadata": {},
   "outputs": [],
   "source": []
  }
 ],
 "metadata": {
  "kernelspec": {
   "display_name": "Python 3",
   "language": "python",
   "name": "python3"
  },
  "language_info": {
   "codemirror_mode": {
    "name": "ipython",
    "version": 3
   },
   "file_extension": ".py",
   "mimetype": "text/x-python",
   "name": "python",
   "nbconvert_exporter": "python",
   "pygments_lexer": "ipython3",
   "version": "3.11.2"
  },
  "orig_nbformat": 4
 },
 "nbformat": 4,
 "nbformat_minor": 2
}
